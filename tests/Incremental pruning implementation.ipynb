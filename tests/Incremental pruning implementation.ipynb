{
 "cells": [
  {
   "cell_type": "code",
   "execution_count": 1,
   "metadata": {},
   "outputs": [
    {
     "name": "stdout",
     "output_type": "stream",
     "text": [
      "Populating the interactive namespace from numpy and matplotlib\n"
     ]
    }
   ],
   "source": [
    "%load_ext autoreload\n",
    "%autoreload 2\n",
    "%pylab inline"
   ]
  },
  {
   "cell_type": "code",
   "execution_count": 2,
   "metadata": {},
   "outputs": [],
   "source": [
    "import sys\n",
    "import os\n",
    "import seaborn as sns\n",
    "import numpy as np"
   ]
  },
  {
   "cell_type": "code",
   "execution_count": 3,
   "metadata": {},
   "outputs": [
    {
     "name": "stderr",
     "output_type": "stream",
     "text": [
      "Using TensorFlow backend.\n"
     ]
    }
   ],
   "source": [
    "import keras\n",
    "from keras.datasets import mnist\n",
    "from keras.models import Sequential\n",
    "from keras.layers import Dense, Dropout\n",
    "from keras.optimizers import RMSprop, Adam\n",
    "\n",
    "from keras.layers import Dense, Wrapper\n",
    "import keras.backend as K\n",
    "import tensorflow as tf\n"
   ]
  },
  {
   "cell_type": "code",
   "execution_count": 4,
   "metadata": {},
   "outputs": [],
   "source": [
    "# sys.path.append(os.path.expanduser(\"~/projects/2019-SIdropout/\"))\n",
    "sys.path.extend([os.path.expanduser('..')])\n",
    "\n",
    "from sitools import protocols\n",
    "from sitools.layers import PruneConnect\n",
    "from sitools.optimizers import KOOptimizer\n",
    "from sitools.keras_utils import LossHistory"
   ]
  },
  {
   "cell_type": "code",
   "execution_count": 5,
   "metadata": {},
   "outputs": [],
   "source": [
    "\n",
    "\n",
    "# class TargetDropConnect(Wrapper):\n",
    "#     def __init__(self, layer, prob=0.5, **kwargs):\n",
    "#         self.prob  = prob\n",
    "#         self.layer = layer\n",
    "#         super(TargetDropConnect, self).__init__(layer, **kwargs)\n",
    "#         if 0. < self.prob < 1.:\n",
    "#             self.uses_learning_phase = True\n",
    "\n",
    "#     def build(self, input_shape):\n",
    "#         if not self.layer.built:\n",
    "#             self.layer.build(input_shape)\n",
    "#             self.layer.built = True\n",
    "#             self.kernel = self.layer.kernel\n",
    "#             self.bias = self.layer.bias\n",
    "#             self.kernel_rates = self.prob*K.ones_like(self.kernel)\n",
    "#             self.bias_rates = self.prob*K.ones_like(self.bias)\n",
    "#         super(TargetDropConnect, self).build()\n",
    "\n",
    "#     def compute_output_shape(self, input_shape):\n",
    "#         return self.layer.compute_output_shape(input_shape)\n",
    "    \n",
    "#     def get_mask(self,x,prob):\n",
    "#         mask = (K.random_uniform(prob.shape)>prob)\n",
    "#         mask = K.cast(mask, x.dtype)/(1e-6+(1.0-prob))\n",
    "#         return mask\n",
    "    \n",
    "#     def get_prune_mask(self,x,thr):\n",
    "#         mask = (x>thr)\n",
    "#         mask = K.cast(mask, x.dtype)\n",
    "#         return mask\n",
    "\n",
    "#     def call(self, x):\n",
    "#         self.kernel_mask = self.get_mask(self.kernel, self.kernel_rates)\n",
    "#         self.bias_mask = self.get_mask(self.bias, self.bias_rates)\n",
    "        \n",
    "#         if 0. < self.prob < 1.:\n",
    "#             self.layer.kernel = K.in_train_phase(self.kernel*self.kernel_mask, self.kernel)\n",
    "#             self.layer.bias   = K.in_train_phase(self.bias*self.bias_mask, self.bias)\n",
    "# #             self.layer.kernel = self.kernel*self.kernel_mask\n",
    "# #             self.layer.bias   = self.bias*self.bias_mask\n",
    "#         return self.layer.call(x)"
   ]
  },
  {
   "cell_type": "code",
   "execution_count": 6,
   "metadata": {},
   "outputs": [
    {
     "name": "stdout",
     "output_type": "stream",
     "text": [
      "60000 train samples\n",
      "10000 test samples\n",
      "WARNING:tensorflow:From /home/zenkfrie/programs/anaconda3/lib/python3.7/site-packages/tensorflow/python/framework/op_def_library.py:263: colocate_with (from tensorflow.python.framework.ops) is deprecated and will be removed in a future version.\n",
      "Instructions for updating:\n",
      "Colocations handled automatically by placer.\n"
     ]
    }
   ],
   "source": [
    "batch_size = 128\n",
    "num_classes = 10\n",
    "epochs = 10\n",
    "\n",
    "# the data, split between train and test sets\n",
    "(x_train, y_train), (x_test, y_test) = mnist.load_data()\n",
    "\n",
    "x_train = x_train.reshape(60000, 784)\n",
    "x_test = x_test.reshape(10000, 784)\n",
    "x_train = x_train.astype('float32')\n",
    "x_test = x_test.astype('float32')\n",
    "x_train /= 255\n",
    "x_test /= 255\n",
    "print(x_train.shape[0], 'train samples')\n",
    "print(x_test.shape[0], 'test samples')\n",
    "\n",
    "# convert class vectors to binary class matrices\n",
    "y_train = keras.utils.to_categorical(y_train, num_classes)\n",
    "y_test = keras.utils.to_categorical(y_test, num_classes)\n",
    "\n",
    "model = Sequential()\n",
    "model.add(PruneConnect(Dense(300, activation='relu'), input_shape=(784,)))\n",
    "# model.add(Dropout(0.2))\n",
    "model.add(PruneConnect(Dense(100, activation='relu')))\n",
    "# model.add(Dropout(0.2))\n",
    "model.add(PruneConnect(Dense(num_classes, activation='softmax')))"
   ]
  },
  {
   "cell_type": "code",
   "execution_count": 7,
   "metadata": {},
   "outputs": [
    {
     "name": "stdout",
     "output_type": "stream",
     "text": [
      "WARNING:tensorflow:From /home/zenkfrie/programs/anaconda3/lib/python3.7/site-packages/tensorflow/python/ops/math_ops.py:3066: to_int32 (from tensorflow.python.ops.math_ops) is deprecated and will be removed in a future version.\n",
      "Instructions for updating:\n",
      "Use tf.cast instead.\n",
      "Layer 0 sparseness 1.000000\n",
      "Layer 1 sparseness 1.000000\n",
      "Layer 2 sparseness 1.000000\n",
      "Train on 60000 samples, validate on 10000 samples\n",
      "Epoch 1/10\n",
      " - 4s - loss: 0.2753 - acc: 0.9197 - val_loss: 0.1265 - val_acc: 0.9606\n",
      "Epoch 2/10\n",
      " - 3s - loss: 0.1037 - acc: 0.9687 - val_loss: 0.0887 - val_acc: 0.9719\n",
      "Epoch 3/10\n",
      " - 3s - loss: 0.0678 - acc: 0.9790 - val_loss: 0.0790 - val_acc: 0.9758\n",
      "Epoch 4/10\n",
      " - 3s - loss: 0.0487 - acc: 0.9848 - val_loss: 0.0780 - val_acc: 0.9753\n",
      "Epoch 5/10\n",
      " - 3s - loss: 0.0355 - acc: 0.9891 - val_loss: 0.0681 - val_acc: 0.9781\n",
      "Epoch 6/10\n",
      " - 3s - loss: 0.0285 - acc: 0.9913 - val_loss: 0.0702 - val_acc: 0.9798\n",
      "Epoch 7/10\n",
      " - 3s - loss: 0.0198 - acc: 0.9938 - val_loss: 0.0851 - val_acc: 0.9752\n",
      "Epoch 8/10\n",
      " - 3s - loss: 0.0191 - acc: 0.9937 - val_loss: 0.0778 - val_acc: 0.9770\n",
      "Epoch 9/10\n",
      " - 3s - loss: 0.0147 - acc: 0.9953 - val_loss: 0.0717 - val_acc: 0.9794\n",
      "Epoch 10/10\n",
      " - 3s - loss: 0.0105 - acc: 0.9970 - val_loss: 0.0813 - val_acc: 0.9792\n",
      "\n",
      "WARNING: The TensorFlow contrib module will not be included in TensorFlow 2.0.\n",
      "For more information, please see:\n",
      "  * https://github.com/tensorflow/community/blob/master/rfcs/20180907-contrib-sunset.md\n",
      "  * https://github.com/tensorflow/addons\n",
      "If you depend on functionality not listed there, please file an issue.\n",
      "\n",
      "WARNING:tensorflow:From /home/zenkfrie/programs/anaconda3/lib/python3.7/site-packages/tensorflow/contrib/distributions/python/ops/sample_stats.py:307: to_double (from tensorflow.python.ops.math_ops) is deprecated and will be removed in a future version.\n",
      "Instructions for updating:\n",
      "Use tf.cast instead.\n",
      "Importance cutoff 0.000115\n",
      "Layer 0 sparseness 0.447338\n",
      "Layer 1 sparseness 0.903654\n",
      "Layer 2 sparseness 0.952475\n",
      "Overall sparsetiy 0.500769\n",
      "Train on 60000 samples, validate on 10000 samples\n",
      "Epoch 1/10\n",
      " - 3s - loss: 0.0308 - acc: 0.9901 - val_loss: 0.0694 - val_acc: 0.9807\n",
      "Epoch 2/10\n",
      " - 3s - loss: 0.0128 - acc: 0.9959 - val_loss: 0.0702 - val_acc: 0.9816\n",
      "Epoch 3/10\n",
      " - 3s - loss: 0.0093 - acc: 0.9973 - val_loss: 0.0883 - val_acc: 0.9777\n",
      "Epoch 4/10\n",
      " - 3s - loss: 0.0086 - acc: 0.9974 - val_loss: 0.0751 - val_acc: 0.9825\n",
      "Epoch 5/10\n",
      " - 3s - loss: 0.0116 - acc: 0.9962 - val_loss: 0.0854 - val_acc: 0.9794\n",
      "Epoch 6/10\n",
      " - 3s - loss: 0.0092 - acc: 0.9969 - val_loss: 0.0792 - val_acc: 0.9826\n",
      "Epoch 7/10\n",
      " - 3s - loss: 0.0073 - acc: 0.9975 - val_loss: 0.0957 - val_acc: 0.9804\n",
      "Epoch 8/10\n",
      " - 3s - loss: 0.0085 - acc: 0.9970 - val_loss: 0.0951 - val_acc: 0.9788\n",
      "Epoch 9/10\n",
      " - 3s - loss: 0.0107 - acc: 0.9962 - val_loss: 0.1153 - val_acc: 0.9762\n",
      "Epoch 10/10\n",
      " - 3s - loss: 0.0061 - acc: 0.9979 - val_loss: 0.0841 - val_acc: 0.9825\n",
      "Importance cutoff 0.000989\n",
      "Layer 0 sparseness 0.087138\n",
      "Layer 1 sparseness 0.186312\n",
      "Layer 2 sparseness 0.892079\n",
      "Overall sparsetiy 0.101384\n",
      "Train on 60000 samples, validate on 10000 samples\n",
      "Epoch 1/10\n",
      " - 3s - loss: 0.2578 - acc: 0.9277 - val_loss: 0.1456 - val_acc: 0.9577\n",
      "Epoch 2/10\n",
      " - 4s - loss: 0.1272 - acc: 0.9621 - val_loss: 0.1196 - val_acc: 0.9635\n",
      "Epoch 3/10\n",
      " - 3s - loss: 0.1033 - acc: 0.9690 - val_loss: 0.1254 - val_acc: 0.9612\n",
      "Epoch 4/10\n",
      " - 3s - loss: 0.0916 - acc: 0.9721 - val_loss: 0.0992 - val_acc: 0.9683\n",
      "Epoch 5/10\n",
      " - 3s - loss: 0.0809 - acc: 0.9755 - val_loss: 0.0991 - val_acc: 0.9688\n",
      "Epoch 6/10\n",
      " - 3s - loss: 0.0730 - acc: 0.9778 - val_loss: 0.1068 - val_acc: 0.9677\n",
      "Epoch 7/10\n",
      " - 4s - loss: 0.0656 - acc: 0.9795 - val_loss: 0.0933 - val_acc: 0.9711\n",
      "Epoch 8/10\n",
      " - 3s - loss: 0.0601 - acc: 0.9816 - val_loss: 0.0880 - val_acc: 0.9743\n",
      "Epoch 9/10\n",
      " - 4s - loss: 0.0555 - acc: 0.9833 - val_loss: 0.0944 - val_acc: 0.9711\n",
      "Epoch 10/10\n",
      " - 3s - loss: 0.0505 - acc: 0.9848 - val_loss: 0.0889 - val_acc: 0.9737\n",
      "Importance cutoff 0.002675\n",
      "Layer 0 sparseness 0.041342\n",
      "Layer 1 sparseness 0.103455\n",
      "Layer 2 sparseness 0.861386\n",
      "Overall sparsetiy 0.051461\n",
      "Train on 60000 samples, validate on 10000 samples\n",
      "Epoch 1/10\n",
      " - 3s - loss: 0.1151 - acc: 0.9638 - val_loss: 0.1184 - val_acc: 0.9648\n",
      "Epoch 2/10\n",
      " - 3s - loss: 0.0817 - acc: 0.9741 - val_loss: 0.1041 - val_acc: 0.9683\n",
      "Epoch 3/10\n",
      " - 3s - loss: 0.0752 - acc: 0.9764 - val_loss: 0.1044 - val_acc: 0.9683\n",
      "Epoch 4/10\n",
      " - 3s - loss: 0.0693 - acc: 0.9784 - val_loss: 0.1037 - val_acc: 0.9700\n",
      "Epoch 5/10\n",
      " - 3s - loss: 0.0647 - acc: 0.9803 - val_loss: 0.1013 - val_acc: 0.9701\n",
      "Epoch 6/10\n",
      " - 3s - loss: 0.0619 - acc: 0.9809 - val_loss: 0.0939 - val_acc: 0.9712\n",
      "Epoch 7/10\n",
      " - 3s - loss: 0.0574 - acc: 0.9822 - val_loss: 0.1080 - val_acc: 0.9701\n",
      "Epoch 8/10\n",
      " - 3s - loss: 0.0554 - acc: 0.9827 - val_loss: 0.0954 - val_acc: 0.9726\n",
      "Epoch 9/10\n",
      " - 3s - loss: 0.0528 - acc: 0.9839 - val_loss: 0.1009 - val_acc: 0.9711\n",
      "Epoch 10/10\n",
      " - 3s - loss: 0.0503 - acc: 0.9838 - val_loss: 0.0972 - val_acc: 0.9721\n",
      "Importance cutoff 0.007900\n",
      "Layer 0 sparseness 0.005490\n",
      "Layer 1 sparseness 0.036179\n",
      "Layer 2 sparseness 0.683168\n",
      "Overall sparsetiy 0.011522\n",
      "Train on 60000 samples, validate on 10000 samples\n",
      "Epoch 1/10\n",
      " - 3s - loss: 0.7693 - acc: 0.7637 - val_loss: 0.5207 - val_acc: 0.8373\n",
      "Epoch 2/10\n",
      " - 3s - loss: 0.4976 - acc: 0.8481 - val_loss: 0.4454 - val_acc: 0.8648\n",
      "Epoch 3/10\n",
      " - 3s - loss: 0.4472 - acc: 0.8643 - val_loss: 0.4252 - val_acc: 0.8689\n",
      "Epoch 4/10\n",
      " - 3s - loss: 0.4208 - acc: 0.8719 - val_loss: 0.4001 - val_acc: 0.8766\n",
      "Epoch 5/10\n",
      " - 3s - loss: 0.4002 - acc: 0.8774 - val_loss: 0.3873 - val_acc: 0.8813\n",
      "Epoch 6/10\n",
      " - 3s - loss: 0.3847 - acc: 0.8823 - val_loss: 0.3667 - val_acc: 0.8877\n",
      "Epoch 7/10\n",
      " - 3s - loss: 0.3715 - acc: 0.8864 - val_loss: 0.3550 - val_acc: 0.8898\n",
      "Epoch 8/10\n",
      " - 3s - loss: 0.3608 - acc: 0.8906 - val_loss: 0.3444 - val_acc: 0.8959\n",
      "Epoch 9/10\n",
      " - 3s - loss: 0.3505 - acc: 0.8923 - val_loss: 0.3445 - val_acc: 0.8947\n",
      "Epoch 10/10\n",
      " - 3s - loss: 0.3414 - acc: 0.8962 - val_loss: 0.3321 - val_acc: 0.8982\n",
      "Importance cutoff 0.018046\n",
      "Layer 0 sparseness 0.003941\n",
      "Layer 1 sparseness 0.014153\n",
      "Layer 2 sparseness 0.383168\n",
      "Overall sparsetiy 0.006530\n",
      "Train on 60000 samples, validate on 10000 samples\n",
      "Epoch 1/10\n",
      " - 3s - loss: 0.6639 - acc: 0.7911 - val_loss: 0.5550 - val_acc: 0.8254\n",
      "Epoch 2/10\n",
      " - 3s - loss: 0.5574 - acc: 0.8272 - val_loss: 0.5251 - val_acc: 0.8327\n",
      "Epoch 3/10\n",
      " - 3s - loss: 0.5342 - acc: 0.8345 - val_loss: 0.5103 - val_acc: 0.8370\n",
      "Epoch 4/10\n",
      " - 3s - loss: 0.5186 - acc: 0.8392 - val_loss: 0.4965 - val_acc: 0.8394\n",
      "Epoch 5/10\n",
      " - 3s - loss: 0.5074 - acc: 0.8431 - val_loss: 0.4797 - val_acc: 0.8475\n",
      "Epoch 6/10\n",
      " - 3s - loss: 0.4970 - acc: 0.8459 - val_loss: 0.4800 - val_acc: 0.8496\n",
      "Epoch 7/10\n",
      " - 3s - loss: 0.4899 - acc: 0.8484 - val_loss: 0.4801 - val_acc: 0.8455\n",
      "Epoch 8/10\n",
      " - 3s - loss: 0.4830 - acc: 0.8503 - val_loss: 0.4631 - val_acc: 0.8548\n",
      "Epoch 9/10\n",
      " - 3s - loss: 0.4770 - acc: 0.8515 - val_loss: 0.4607 - val_acc: 0.8565\n",
      "Epoch 10/10\n",
      " - 3s - loss: 0.4702 - acc: 0.8556 - val_loss: 0.4579 - val_acc: 0.8584\n",
      "Importance cutoff 0.042655\n",
      "Layer 0 sparseness 0.001274\n",
      "Layer 1 sparseness 0.008372\n",
      "Layer 2 sparseness 0.122772\n",
      "Overall sparsetiy 0.002536\n",
      "Test loss: 2.3508156566619873\n",
      "Test accuracy: 0.0982\n",
      "Overall sparsenss: 0.002536\n"
     ]
    }
   ],
   "source": [
    "\n",
    "\n",
    "protocol_name, protocol = protocols.PATH_INT_PROTOCOL(omega_decay='sum',xi=1e-3)\n",
    "opt = Adam(lr=1e-3, beta_1=0.9, beta_2=0.999)\n",
    "oopt = KOOptimizer(opt, model=model, **protocol)\n",
    "model.compile(loss='categorical_crossentropy', optimizer=oopt, metrics=['accuracy'])\n",
    "\n",
    "\n",
    "model._make_train_function()\n",
    "    # saved_weights = model.get_weights()\n",
    "\n",
    "history = LossHistory()\n",
    "callbacks = [history]\n",
    "\n",
    "# model.build()\n",
    "# model.summary()\n",
    "\n",
    "overall_history = []\n",
    "overall_sparseness = []\n",
    "\n",
    "for k,l in enumerate(model.layers):\n",
    "    print(\"Layer %i sparseness %f\"%(k,K.get_value(l.get_sparseness())))\n",
    "\n",
    "reductions = [0.5, 0.9, 0.95, 0.99, 0.995, 0.999]\n",
    "for e,ptile in enumerate(reductions):\n",
    "    \n",
    "    history = model.fit(x_train, y_train,\n",
    "                        batch_size=batch_size,\n",
    "                        epochs=epochs,\n",
    "                        verbose=2,\n",
    "                        validation_data=(x_test, y_test),\n",
    "                        callbacks=callbacks)\n",
    "    oopt.update_task_vars()\n",
    "    \n",
    "    # implement dropout strategy after every epoch\n",
    "    omegas = K.concatenate([ K.flatten(oopt.vars['grads2'][l.kernel]) for l in model.layers ])\n",
    "    thr = tf.contrib.distributions.percentile(omegas,100*ptile)\n",
    "    print(\"Importance cutoff %f\"%K.get_value(thr))\n",
    "    \n",
    "    for k,l in enumerate(model.layers):\n",
    "        omega = oopt.vars['grads2'][l.kernel]\n",
    "        if ptile<1.0:\n",
    "            mask = omega>thr\n",
    "        else:\n",
    "            print(\"Crude control\")\n",
    "            mask = K.zeros_like(l.kernel)\n",
    "        l.set_kernel_mask(mask)\n",
    "        print(\"Layer %i sparseness %f\"%(k,K.get_value(l.get_sparseness())))\n",
    "        # print(\"Number of parameters %i\"%K.get_value(l.get_nb_parameters()))\n",
    "    \n",
    "    # compute overall sparseness\n",
    "    nb_nz = np.sum([ K.get_value(l.get_nz_parameters()) for l in model.layers ])\n",
    "    nb_tot = np.sum([ K.get_value(l.get_nb_parameters()) for l in model.layers ])\n",
    "    overall_history.extend(history.history[\"acc\"])\n",
    "    overall_sparseness.append(nb_nz/nb_tot)\n",
    "    print(\"Overall sparsetiy %f\"%(nb_nz/nb_tot))\n",
    "    \n",
    "score = model.evaluate(x_test, y_test, verbose=0)\n",
    "print('Test loss:', score[0])\n",
    "print('Test accuracy:', score[1])\n",
    "# compute overall sparseness\n",
    "nb_nz = np.sum([ K.get_value(l.get_nz_parameters()) for l in model.layers ])\n",
    "nb_tot = np.sum([ K.get_value(l.get_nb_parameters()) for l in model.layers ])\n",
    "print(\"Overall sparsenss: %f\"%(nb_nz/nb_tot))"
   ]
  },
  {
   "cell_type": "code",
   "execution_count": 8,
   "metadata": {},
   "outputs": [
    {
     "name": "stdout",
     "output_type": "stream",
     "text": [
      "Overall sparsenss: 0.002536\n"
     ]
    }
   ],
   "source": [
    "# compute overall sparseness\n",
    "nb_nz = np.sum([ K.get_value(l.get_nz_parameters()) for l in model.layers ])\n",
    "nb_tot = np.sum([ K.get_value(l.get_nb_parameters()) for l in model.layers ])\n",
    "print(\"Overall sparsenss: %f\"%(nb_nz/nb_tot))"
   ]
  },
  {
   "cell_type": "code",
   "execution_count": null,
   "metadata": {},
   "outputs": [],
   "source": []
  },
  {
   "cell_type": "code",
   "execution_count": 9,
   "metadata": {},
   "outputs": [],
   "source": [
    "# K.get_value(model.layers[1].kernel)"
   ]
  },
  {
   "cell_type": "code",
   "execution_count": 10,
   "metadata": {},
   "outputs": [],
   "source": [
    "# plt.hist(np.ravel(K.get_value(model.layers[1].kernel_mask)))"
   ]
  },
  {
   "cell_type": "code",
   "execution_count": 11,
   "metadata": {},
   "outputs": [
    {
     "data": {
      "text/plain": [
       "[<matplotlib.lines.Line2D at 0x7fa75c0b0320>]"
      ]
     },
     "execution_count": 11,
     "metadata": {},
     "output_type": "execute_result"
    },
    {
     "data": {
      "image/png": "[encoded data removed]",
      "text/plain": [
       "<Figure size 432x288 with 1 Axes>"
      ]
     },
     "metadata": {
      "needs_background": "light"
     },
     "output_type": "display_data"
    }
   ],
   "source": [
    "# oopt.update_task_vars()\n",
    "# lc=np.concatenate(overall_history,axis=0)\n",
    "plt.plot(overall_history)\n",
    "# plt.plot(overall_sparseness)"
   ]
  },
  {
   "cell_type": "code",
   "execution_count": 12,
   "metadata": {},
   "outputs": [
    {
     "data": {
      "image/png": "[encoded data removed]",
      "text/plain": [
       "<Figure size 432x288 with 1 Axes>"
      ]
     },
     "metadata": {
      "needs_background": "light"
     },
     "output_type": "display_data"
    }
   ],
   "source": [
    "plt.plot(1.0-np.array(overall_sparseness),overall_history[epochs-1::epochs],'o-')\n",
    "plt.xlabel(\"1-sparseness\")\n",
    "plt.ylabel(\"Accuracy\")\n",
    "sns.despine()"
   ]
  },
  {
   "cell_type": "code",
   "execution_count": 13,
   "metadata": {},
   "outputs": [
    {
     "data": {
      "image/png": "[encoded data removed]",
      "text/plain": [
       "<Figure size 432x288 with 1 Axes>"
      ]
     },
     "metadata": {
      "needs_background": "light"
     },
     "output_type": "display_data"
    }
   ],
   "source": [
    "plt.semilogx(1.0-np.array(overall_sparseness),overall_history[epochs-1::epochs],'o-')\n",
    "plt.xlabel(\"1-sparseness\")\n",
    "plt.ylabel(\"Accuracy\")\n",
    "plt.xlim(0.8,1.00)\n",
    "plt.ylim(0.9,1.01)\n",
    "sns.despine()"
   ]
  },
  {
   "cell_type": "code",
   "execution_count": 14,
   "metadata": {},
   "outputs": [
    {
     "data": {
      "image/png": "[encoded data removed]",
      "text/plain": [
       "<Figure size 1800x450 with 3 Axes>"
      ]
     },
     "metadata": {
      "needs_background": "light"
     },
     "output_type": "display_data"
    }
   ],
   "source": [
    "a = len(model.layers)\n",
    "gs=GridSpec(1,a)\n",
    "fig=plt.figure(figsize=(12,3),dpi=150)\n",
    "for i in range(a):\n",
    "    tmp=oopt.vars['omega'][model.layers[i].weights[0]]\n",
    "    tmp=K.get_value(tmp)\n",
    "    ax=plt.subplot(gs[i])\n",
    "    h1=ax.hist(tmp.ravel(),bins=100,log=True)"
   ]
  },
  {
   "cell_type": "code",
   "execution_count": null,
   "metadata": {},
   "outputs": [],
   "source": []
  },
  {
   "cell_type": "markdown",
   "metadata": {},
   "source": [
    "# Train a convnet on CIFAR10"
   ]
  },
  {
   "cell_type": "code",
   "execution_count": 15,
   "metadata": {},
   "outputs": [
    {
     "name": "stdout",
     "output_type": "stream",
     "text": [
      "x_train shape: (50000, 32, 32, 3)\n",
      "50000 train samples\n",
      "10000 test samples\n"
     ]
    }
   ],
   "source": [
    "import keras\n",
    "from keras.datasets import cifar10\n",
    "from keras.preprocessing.image import ImageDataGenerator\n",
    "from keras.models import Sequential\n",
    "from keras.layers import Dense, Dropout, Activation, Flatten\n",
    "from keras.layers import Conv2D, MaxPooling2D\n",
    "import os\n",
    "\n",
    "batch_size = 32\n",
    "num_classes = 10\n",
    "epochs = 10\n",
    "data_augmentation = True\n",
    "num_predictions = 20\n",
    "# save_dir = os.path.join(os.getcwd(), 'saved_models')\n",
    "# model_name = 'keras_cifar10_trained_model.h5'\n",
    "\n",
    "# The data, split between train and test sets:\n",
    "(x_train, y_train), (x_test, y_test) = cifar10.load_data()\n",
    "print('x_train shape:', x_train.shape)\n",
    "print(x_train.shape[0], 'train samples')\n",
    "print(x_test.shape[0], 'test samples')\n",
    "\n",
    "# Convert class vectors to binary class matrices.\n",
    "y_train = keras.utils.to_categorical(y_train, num_classes)\n",
    "y_test = keras.utils.to_categorical(y_test, num_classes)\n",
    "\n",
    "model = Sequential()\n",
    "model.add(PruneConnect(Conv2D(32, (3, 3), padding='same'),\n",
    "                 input_shape=x_train.shape[1:]))\n",
    "model.add(Activation('relu'))\n",
    "model.add(PruneConnect(Conv2D(32, (3, 3))))\n",
    "model.add(Activation('relu'))\n",
    "model.add(MaxPooling2D(pool_size=(2, 2)))\n",
    "# model.add(Dropout(0.25))\n",
    "\n",
    "model.add(PruneConnect(Conv2D(64, (3, 3), padding='same')))\n",
    "model.add(Activation('relu'))\n",
    "model.add(PruneConnect(Conv2D(64, (3, 3))))\n",
    "model.add(Activation('relu'))\n",
    "model.add(MaxPooling2D(pool_size=(2, 2)))\n",
    "# model.add(Dropout(0.25))\n",
    "\n",
    "model.add(Flatten())\n",
    "model.add(PruneConnect(Dense(512)))\n",
    "model.add(Activation('relu'))\n",
    "# model.add(Dropout(0.5))\n",
    "model.add(PruneConnect(Dense(num_classes)))\n",
    "model.add(Activation('softmax'))\n",
    "\n",
    "# initiate RMSprop optimizer\n",
    "opt = keras.optimizers.rmsprop(lr=0.0001, decay=1e-6)\n",
    "\n",
    "# Let's train the model using RMSprop\n",
    "model.compile(loss='categorical_crossentropy',\n",
    "              optimizer=opt,\n",
    "              metrics=['accuracy'])\n",
    "\n",
    "x_train = x_train.astype('float32')\n",
    "x_test = x_test.astype('float32')\n",
    "x_train /= 255\n",
    "x_test /= 255\n",
    "\n",
    "\n",
    "\n"
   ]
  },
  {
   "cell_type": "code",
   "execution_count": 16,
   "metadata": {},
   "outputs": [
    {
     "name": "stdout",
     "output_type": "stream",
     "text": [
      "Layer 0 sparseness 1.000000\n",
      "Layer 2 sparseness 1.000000\n",
      "Layer 5 sparseness 1.000000\n",
      "Layer 7 sparseness 1.000000\n",
      "Layer 11 sparseness 1.000000\n",
      "Layer 13 sparseness 1.000000\n",
      "Train on 50000 samples, validate on 10000 samples\n",
      "Epoch 1/10\n",
      " - 20s - loss: 1.3899 - acc: 0.4949 - val_loss: 1.0778 - val_acc: 0.6176\n",
      "Epoch 2/10\n",
      " - 20s - loss: 0.9272 - acc: 0.6734 - val_loss: 0.8510 - val_acc: 0.7026\n",
      "Epoch 3/10\n",
      " - 20s - loss: 0.7104 - acc: 0.7522 - val_loss: 0.7656 - val_acc: 0.7359\n",
      "Epoch 4/10\n",
      " - 20s - loss: 0.5600 - acc: 0.8048 - val_loss: 0.7554 - val_acc: 0.7484\n",
      "Epoch 5/10\n",
      " - 20s - loss: 0.4314 - acc: 0.8487 - val_loss: 0.8054 - val_acc: 0.7437\n",
      "Epoch 6/10\n",
      " - 20s - loss: 0.3115 - acc: 0.8886 - val_loss: 0.8740 - val_acc: 0.7468\n",
      "Epoch 7/10\n",
      " - 20s - loss: 0.2198 - acc: 0.9226 - val_loss: 0.9995 - val_acc: 0.7420\n",
      "Epoch 8/10\n",
      " - 20s - loss: 0.1675 - acc: 0.9415 - val_loss: 1.1778 - val_acc: 0.7415\n",
      "Epoch 9/10\n",
      " - 20s - loss: 0.1362 - acc: 0.9528 - val_loss: 1.3071 - val_acc: 0.7389\n",
      "Epoch 10/10\n",
      " - 20s - loss: 0.1190 - acc: 0.9587 - val_loss: 1.4453 - val_acc: 0.7380\n",
      "Importance cutoff 0.000060\n",
      "Layer 0 sparseness 0.962054\n",
      "Layer 2 sparseness 0.780493\n",
      "Layer 5 sparseness 0.757461\n",
      "Layer 7 sparseness 0.779327\n",
      "Layer 11 sparseness 0.484172\n",
      "Layer 13 sparseness 0.685380\n",
      "Overall sparsetiy 0.500285\n",
      "Train on 50000 samples, validate on 10000 samples\n",
      "Epoch 1/10\n",
      " - 20s - loss: 0.1096 - acc: 0.9622 - val_loss: 1.4853 - val_acc: 0.7401\n",
      "Epoch 2/10\n",
      " - 20s - loss: 0.1059 - acc: 0.9648 - val_loss: 1.5132 - val_acc: 0.7413\n",
      "Epoch 3/10\n",
      " - 20s - loss: 0.0886 - acc: 0.9706 - val_loss: 1.6218 - val_acc: 0.7385\n",
      "Epoch 4/10\n",
      " - 20s - loss: 0.0922 - acc: 0.9703 - val_loss: 1.6726 - val_acc: 0.7262\n",
      "Epoch 5/10\n",
      " - 20s - loss: 0.0881 - acc: 0.9710 - val_loss: 1.6632 - val_acc: 0.7379\n",
      "Epoch 6/10\n",
      " - 20s - loss: 0.0831 - acc: 0.9731 - val_loss: 1.6996 - val_acc: 0.7416\n",
      "Epoch 7/10\n",
      " - 20s - loss: 0.0799 - acc: 0.9747 - val_loss: 1.7703 - val_acc: 0.7274\n",
      "Epoch 8/10\n",
      " - 20s - loss: 0.0762 - acc: 0.9757 - val_loss: 1.7735 - val_acc: 0.7405\n",
      "Epoch 9/10\n",
      " - 20s - loss: 0.0799 - acc: 0.9751 - val_loss: 1.8915 - val_acc: 0.7266\n",
      "Epoch 10/10\n",
      " - 20s - loss: 0.0677 - acc: 0.9793 - val_loss: 1.8501 - val_acc: 0.7431\n",
      "Importance cutoff 0.005494\n",
      "Layer 0 sparseness 0.889509\n",
      "Layer 2 sparseness 0.611700\n",
      "Layer 5 sparseness 0.634786\n",
      "Layer 7 sparseness 0.602876\n",
      "Layer 11 sparseness 0.069604\n",
      "Layer 13 sparseness 0.609357\n",
      "Overall sparsetiy 0.100513\n",
      "Train on 50000 samples, validate on 10000 samples\n",
      "Epoch 1/10\n",
      " - 20s - loss: 0.9174 - acc: 0.7007 - val_loss: 0.8771 - val_acc: 0.7122\n",
      "Epoch 2/10\n",
      " - 20s - loss: 0.5864 - acc: 0.7952 - val_loss: 0.8555 - val_acc: 0.7303\n",
      "Epoch 3/10\n",
      " - 20s - loss: 0.4709 - acc: 0.8366 - val_loss: 0.9136 - val_acc: 0.7310\n",
      "Epoch 4/10\n",
      " - 20s - loss: 0.3894 - acc: 0.8621 - val_loss: 0.9187 - val_acc: 0.7286\n",
      "Epoch 5/10\n",
      " - 21s - loss: 0.3217 - acc: 0.8870 - val_loss: 0.9739 - val_acc: 0.7356\n",
      "Epoch 6/10\n",
      " - 20s - loss: 0.2738 - acc: 0.9035 - val_loss: 1.1057 - val_acc: 0.7270\n",
      "Epoch 7/10\n",
      " - 20s - loss: 0.2278 - acc: 0.9198 - val_loss: 1.1809 - val_acc: 0.7247\n",
      "Epoch 8/10\n",
      " - 20s - loss: 0.1979 - acc: 0.9292 - val_loss: 1.3502 - val_acc: 0.7140\n",
      "Epoch 9/10\n",
      " - 20s - loss: 0.1753 - acc: 0.9378 - val_loss: 1.3214 - val_acc: 0.7307\n",
      "Epoch 10/10\n",
      " - 20s - loss: 0.1594 - acc: 0.9437 - val_loss: 1.4001 - val_acc: 0.7309\n",
      "Importance cutoff 0.014082\n",
      "Layer 0 sparseness 0.876116\n",
      "Layer 2 sparseness 0.532980\n",
      "Layer 5 sparseness 0.609267\n",
      "Layer 7 sparseness 0.512809\n",
      "Layer 11 sparseness 0.020658\n",
      "Layer 13 sparseness 0.569396\n",
      "Overall sparsetiy 0.050542\n",
      "Train on 50000 samples, validate on 10000 samples\n",
      "Epoch 1/10\n",
      " - 20s - loss: 0.7505 - acc: 0.7461 - val_loss: 0.8631 - val_acc: 0.7157\n",
      "Epoch 2/10\n",
      " - 20s - loss: 0.5564 - acc: 0.8057 - val_loss: 0.8715 - val_acc: 0.7158\n",
      "Epoch 3/10\n",
      " - 20s - loss: 0.4889 - acc: 0.8255 - val_loss: 0.8624 - val_acc: 0.7289\n",
      "Epoch 4/10\n",
      " - 20s - loss: 0.4391 - acc: 0.8445 - val_loss: 0.9094 - val_acc: 0.7311\n",
      "Epoch 5/10\n",
      " - 20s - loss: 0.3988 - acc: 0.8583 - val_loss: 0.8799 - val_acc: 0.7278\n",
      "Epoch 6/10\n",
      " - 20s - loss: 0.3627 - acc: 0.8692 - val_loss: 0.9212 - val_acc: 0.7302\n",
      "Epoch 7/10\n",
      " - 20s - loss: 0.3329 - acc: 0.8817 - val_loss: 1.0015 - val_acc: 0.7229\n",
      "Epoch 8/10\n",
      " - 20s - loss: 0.3083 - acc: 0.8902 - val_loss: 1.0462 - val_acc: 0.7286\n",
      "Epoch 9/10\n",
      " - 20s - loss: 0.2806 - acc: 0.8990 - val_loss: 1.0881 - val_acc: 0.7273\n",
      "Epoch 10/10\n",
      " - 20s - loss: 0.2610 - acc: 0.9053 - val_loss: 1.2006 - val_acc: 0.7145\n",
      "Importance cutoff 0.075329\n",
      "Layer 0 sparseness 0.840402\n",
      "Layer 2 sparseness 0.293577\n",
      "Layer 5 sparseness 0.228266\n",
      "Layer 7 sparseness 0.072195\n",
      "Layer 11 sparseness 0.000455\n",
      "Layer 13 sparseness 0.452632\n",
      "Overall sparsetiy 0.010565\n",
      "Train on 50000 samples, validate on 10000 samples\n",
      "Epoch 1/10\n",
      " - 20s - loss: 2.1676 - acc: 0.1618 - val_loss: 2.1218 - val_acc: 0.1877\n",
      "Epoch 2/10\n",
      " - 20s - loss: 2.1150 - acc: 0.1908 - val_loss: 2.0952 - val_acc: 0.1983\n",
      "Epoch 3/10\n",
      " - 20s - loss: 2.0834 - acc: 0.2019 - val_loss: 2.0544 - val_acc: 0.2108\n",
      "Epoch 4/10\n",
      " - 20s - loss: 2.0525 - acc: 0.2151 - val_loss: 2.0308 - val_acc: 0.2218\n",
      "Epoch 5/10\n",
      " - 20s - loss: 2.0270 - acc: 0.2238 - val_loss: 2.0178 - val_acc: 0.2163\n",
      "Epoch 6/10\n",
      " - 20s - loss: 2.0068 - acc: 0.2297 - val_loss: 2.0016 - val_acc: 0.2329\n",
      "Epoch 7/10\n",
      " - 20s - loss: 1.9950 - acc: 0.2343 - val_loss: 1.9863 - val_acc: 0.2381\n",
      "Epoch 8/10\n",
      " - 20s - loss: 1.9849 - acc: 0.2395 - val_loss: 1.9729 - val_acc: 0.2400\n",
      "Epoch 9/10\n",
      " - 20s - loss: 1.9782 - acc: 0.2394 - val_loss: 1.9800 - val_acc: 0.2342\n",
      "Epoch 10/10\n",
      " - 20s - loss: 1.9712 - acc: 0.2451 - val_loss: 1.9593 - val_acc: 0.2454\n",
      "Importance cutoff 0.117058\n",
      "Layer 0 sparseness 0.803571\n",
      "Layer 2 sparseness 0.213452\n",
      "Layer 5 sparseness 0.086505\n",
      "Layer 7 sparseness 0.018739\n",
      "Layer 11 sparseness 0.000440\n",
      "Layer 13 sparseness 0.284600\n",
      "Overall sparsetiy 0.005568\n",
      "Train on 50000 samples, validate on 10000 samples\n",
      "Epoch 1/10\n",
      " - 20s - loss: 1.9990 - acc: 0.2338 - val_loss: 1.9866 - val_acc: 0.2434\n",
      "Epoch 2/10\n",
      " - 20s - loss: 1.9857 - acc: 0.2379 - val_loss: 1.9806 - val_acc: 0.2374\n",
      "Epoch 3/10\n",
      " - 20s - loss: 1.9781 - acc: 0.2407 - val_loss: 1.9586 - val_acc: 0.2493\n",
      "Epoch 4/10\n",
      " - 20s - loss: 1.9710 - acc: 0.2416 - val_loss: 1.9589 - val_acc: 0.2474\n",
      "Epoch 5/10\n",
      " - 20s - loss: 1.9660 - acc: 0.2441 - val_loss: 1.9632 - val_acc: 0.2472\n",
      "Epoch 6/10\n",
      " - 20s - loss: 1.9626 - acc: 0.2478 - val_loss: 1.9477 - val_acc: 0.2489\n",
      "Epoch 7/10\n",
      " - 20s - loss: 1.9603 - acc: 0.2470 - val_loss: 1.9524 - val_acc: 0.2450\n",
      "Epoch 8/10\n",
      " - 20s - loss: 1.9564 - acc: 0.2478 - val_loss: 1.9469 - val_acc: 0.2494\n",
      "Epoch 9/10\n",
      " - 20s - loss: 1.9546 - acc: 0.2476 - val_loss: 1.9411 - val_acc: 0.2524\n",
      "Epoch 10/10\n",
      " - 20s - loss: 1.9531 - acc: 0.2513 - val_loss: 1.9408 - val_acc: 0.2560\n",
      "Importance cutoff 0.270277\n",
      "Layer 0 sparseness 0.635045\n",
      "Layer 2 sparseness 0.064014\n",
      "Layer 5 sparseness 0.003947\n",
      "Layer 7 sparseness 0.002139\n",
      "Layer 11 sparseness 0.000439\n",
      "Layer 13 sparseness 0.025926\n",
      "Overall sparsetiy 0.001570\n",
      "Test loss: 2.5805879573822024\n",
      "Test accuracy: 0.1\n",
      "Overall sparsenss: 0.001570\n"
     ]
    }
   ],
   "source": [
    "protocol_name, protocol = protocols.PATH_INT_PROTOCOL(omega_decay='sum',xi=1e-3)\n",
    "opt = Adam(lr=1e-3, beta_1=0.9, beta_2=0.999)\n",
    "oopt = KOOptimizer(opt, model=model, **protocol)\n",
    "model.compile(loss='categorical_crossentropy', optimizer=oopt, metrics=['accuracy'])\n",
    "\n",
    "\n",
    "model._make_train_function()\n",
    "    # saved_weights = model.get_weights()\n",
    "\n",
    "history = LossHistory()\n",
    "callbacks = [history]\n",
    "\n",
    "# model.build()\n",
    "# model.summary()\n",
    "\n",
    "overall_history = []\n",
    "overall_sparseness = []\n",
    "\n",
    "for k,l in enumerate(model.layers):\n",
    "    if type(l)!=PruneConnect: continue\n",
    "    print(\"Layer %i sparseness %f\"%(k,K.get_value(l.get_sparseness())))\n",
    "\n",
    "reductions = [0.5, 0.9, 0.95, 0.99, 0.995, 0.999]\n",
    "for e,ptile in enumerate(reductions):\n",
    "    \n",
    "    history = model.fit(x_train, y_train,\n",
    "                        batch_size=batch_size,\n",
    "                        epochs=epochs,\n",
    "                        verbose=2,\n",
    "                        validation_data=(x_test, y_test),\n",
    "                        callbacks=callbacks)\n",
    "    oopt.update_task_vars()\n",
    "    \n",
    "    # implement dropout strategy after every epoch\n",
    "    omegas = K.concatenate([ K.flatten(oopt.vars['grads2'][l.kernel]) for l in model.layers if type(l)==PruneConnect ])\n",
    "    thr = tf.contrib.distributions.percentile(omegas,100*ptile)\n",
    "    print(\"Importance cutoff %f\"%K.get_value(thr))\n",
    "    \n",
    "    for k,l in enumerate(model.layers):\n",
    "        if type(l)!=PruneConnect: continue\n",
    "        omega = oopt.vars['grads2'][l.kernel]\n",
    "        if ptile<1.0:\n",
    "            mask = omega>thr\n",
    "        else:\n",
    "            print(\"Crude control\")\n",
    "            mask = K.zeros_like(l.kernel)\n",
    "        l.set_kernel_mask(mask)\n",
    "        print(\"Layer %i sparseness %f\"%(k,K.get_value(l.get_sparseness())))\n",
    "        # print(\"Number of parameters %i\"%K.get_value(l.get_nb_parameters()))\n",
    "    \n",
    "    # compute overall sparseness\n",
    "    nb_nz = np.sum([ K.get_value(l.get_nz_parameters()) for l in model.layers if type(l)==PruneConnect ])\n",
    "    nb_tot = np.sum([ K.get_value(l.get_nb_parameters()) for l in model.layers if type(l)==PruneConnect])\n",
    "    overall_history.extend(history.history[\"acc\"])\n",
    "    overall_sparseness.append(nb_nz/nb_tot)\n",
    "    print(\"Overall sparsetiy %f\"%(nb_nz/nb_tot))\n",
    "    \n",
    "score = model.evaluate(x_test, y_test, verbose=0)\n",
    "print('Test loss:', score[0])\n",
    "print('Test accuracy:', score[1])\n",
    "# compute overall sparseness\n",
    "nb_nz = np.sum([ K.get_value(l.get_nz_parameters()) for l in model.layers if type(l)==PruneConnect])\n",
    "nb_tot = np.sum([ K.get_value(l.get_nb_parameters()) for l in model.layers if type(l)==PruneConnect])\n",
    "print(\"Overall sparsenss: %f\"%(nb_nz/nb_tot))"
   ]
  },
  {
   "cell_type": "code",
   "execution_count": 18,
   "metadata": {},
   "outputs": [
    {
     "data": {
      "text/plain": [
       "[<matplotlib.lines.Line2D at 0x7fac566185c0>]"
      ]
     },
     "execution_count": 18,
     "metadata": {},
     "output_type": "execute_result"
    },
    {
     "data": {
      "image/png": "[encoded data removed]",
      "text/plain": [
       "<Figure size 432x288 with 1 Axes>"
      ]
     },
     "metadata": {
      "needs_background": "light"
     },
     "output_type": "display_data"
    }
   ],
   "source": [
    "# oopt.update_task_vars()\n",
    "# lc=np.concatenate(overall_history,axis=0)\n",
    "plt.plot(overall_history)\n",
    "# plt.plot(overall_sparseness)"
   ]
  },
  {
   "cell_type": "code",
   "execution_count": 19,
   "metadata": {},
   "outputs": [
    {
     "data": {
      "image/png": "[encoded data removed]",
      "text/plain": [
       "<Figure size 432x288 with 1 Axes>"
      ]
     },
     "metadata": {
      "needs_background": "light"
     },
     "output_type": "display_data"
    }
   ],
   "source": [
    "plt.plot(1.0-np.array(overall_sparseness),overall_history[epochs-1::epochs],'o-')\n",
    "plt.xlabel(\"1-sparseness\")\n",
    "plt.ylabel(\"Accuracy\")\n",
    "sns.despine()"
   ]
  },
  {
   "cell_type": "code",
   "execution_count": 17,
   "metadata": {},
   "outputs": [
    {
     "ename": "ZeroDivisionError",
     "evalue": "division by zero",
     "output_type": "error",
     "traceback": [
      "\u001b[0;31m---------------------------------------------------------------------------\u001b[0m",
      "\u001b[0;31mZeroDivisionError\u001b[0m                         Traceback (most recent call last)",
      "\u001b[0;32m<ipython-input-17-2fc232d1511a>\u001b[0m in \u001b[0;36m<module>\u001b[0;34m\u001b[0m\n\u001b[0;32m----> 1\u001b[0;31m \u001b[0mprint\u001b[0m\u001b[0;34m(\u001b[0m\u001b[0;36m1\u001b[0m\u001b[0;34m/\u001b[0m\u001b[0;36m0\u001b[0m\u001b[0;34m)\u001b[0m\u001b[0;34m\u001b[0m\u001b[0;34m\u001b[0m\u001b[0m\n\u001b[0m",
      "\u001b[0;31mZeroDivisionError\u001b[0m: division by zero"
     ]
    }
   ],
   "source": [
    "print(1/0)"
   ]
  },
  {
   "cell_type": "code",
   "execution_count": null,
   "metadata": {},
   "outputs": [],
   "source": []
  },
  {
   "cell_type": "code",
   "execution_count": null,
   "metadata": {},
   "outputs": [],
   "source": []
  },
  {
   "cell_type": "code",
   "execution_count": null,
   "metadata": {},
   "outputs": [],
   "source": []
  },
  {
   "cell_type": "markdown",
   "metadata": {},
   "source": [
    "# End of usable code"
   ]
  },
  {
   "cell_type": "code",
   "execution_count": null,
   "metadata": {
    "scrolled": false
   },
   "outputs": [],
   "source": [
    "import tensorflow as tf\n",
    "slim = tf.contrib.slim\n",
    "graph_replace = tf.contrib.graph_editor.graph_replace\n",
    "\n",
    "import sys, os\n",
    "sys.path.extend([os.path.expanduser('..')])\n",
    "from sitools import utils\n",
    "import seaborn as sns\n",
    "sns.set_style(\"ticks\")\n",
    "\n",
    "from tqdm import trange, tqdm\n",
    "\n",
    "# import operator\n",
    "import matplotlib.colors as colors\n",
    "import matplotlib.cm as cmx\n",
    "\n",
    "rcParams['pdf.fonttype'] = 42\n",
    "rcParams['ps.fonttype'] = 42"
   ]
  },
  {
   "cell_type": "markdown",
   "metadata": {},
   "source": [
    "## Parameters"
   ]
  },
  {
   "cell_type": "code",
   "execution_count": null,
   "metadata": {},
   "outputs": [],
   "source": [
    "select = tf.select if hasattr(tf, 'select') else tf.where"
   ]
  },
  {
   "cell_type": "code",
   "execution_count": null,
   "metadata": {},
   "outputs": [],
   "source": [
    "# Data params\n",
    "input_dim = 784\n",
    "output_dim = 10\n",
    "\n",
    "# Network params\n",
    "n_hidden_units = 256\n",
    "activation_fn = tf.nn.relu\n",
    "\n",
    "# Optimization params\n",
    "batch_size = 64\n",
    "epochs_per_task = 10\n",
    "\n",
    "n_stats = 10\n",
    "\n",
    "# Reset optimizer after each age\n",
    "reset_optimizer = True"
   ]
  },
  {
   "cell_type": "code",
   "execution_count": null,
   "metadata": {},
   "outputs": [],
   "source": []
  },
  {
   "cell_type": "code",
   "execution_count": null,
   "metadata": {},
   "outputs": [],
   "source": []
  },
  {
   "cell_type": "code",
   "execution_count": null,
   "metadata": {},
   "outputs": [],
   "source": []
  },
  {
   "cell_type": "code",
   "execution_count": null,
   "metadata": {},
   "outputs": [],
   "source": []
  },
  {
   "cell_type": "markdown",
   "metadata": {},
   "source": [
    "## Construct datasets"
   ]
  },
  {
   "cell_type": "code",
   "execution_count": null,
   "metadata": {},
   "outputs": [],
   "source": [
    "task_labels = [[0,1], [2,3]]#, [4,5], [6,7], [8,9]]\n",
    "task_labels = [[0,1], [2,3], [4,5], [6,7], [8,9]]\n",
    "# task_labels = [[0,1,2,3,4], [5,6,7,8,9]]\n",
    "n_tasks = len(task_labels)\n",
    "training_datasets = utils.construct_split_mnist(task_labels, split='train')\n",
    "validation_datasets = utils.construct_split_mnist(task_labels, split='test')\n",
    "# training_datasets = utils.mk_training_validation_splits(full_datasets, split_fractions=(0.9, 0.1))"
   ]
  },
  {
   "cell_type": "markdown",
   "metadata": {},
   "source": [
    "## Construct network, loss, and updates"
   ]
  },
  {
   "cell_type": "code",
   "execution_count": null,
   "metadata": {},
   "outputs": [],
   "source": [
    "tf.reset_default_graph()"
   ]
  },
  {
   "cell_type": "code",
   "execution_count": null,
   "metadata": {},
   "outputs": [],
   "source": [
    "config = tf.ConfigProto()\n",
    "config.gpu_options.allow_growth=True\n",
    "sess = tf.InteractiveSession(config=config)\n",
    "sess.run(tf.global_variables_initializer())"
   ]
  },
  {
   "cell_type": "code",
   "execution_count": null,
   "metadata": {},
   "outputs": [],
   "source": [
    "# tf.equal(output_mask[None, :], 1.0)"
   ]
  },
  {
   "cell_type": "code",
   "execution_count": null,
   "metadata": {},
   "outputs": [],
   "source": [
    "import keras.backend as K\n",
    "import keras.activations as activations\n",
    "\n",
    "output_mask = tf.Variable(tf.zeros(output_dim), name=\"mask\", trainable=False)\n",
    "\n",
    "def masked_softmax(logits):\n",
    "    # logits are [batch_size, output_dim]\n",
    "    x = select(tf.tile(tf.equal(output_mask[None, :], 1.0), [tf.shape(logits)[0], 1]), logits, -1e32 * tf.ones_like(logits))\n",
    "    return activations.softmax(x)\n",
    "\n",
    "def set_active_outputs(labels):\n",
    "    new_mask = np.zeros(output_dim)\n",
    "    for l in labels:\n",
    "        new_mask[l] = 1.0\n",
    "    sess.run(output_mask.assign(new_mask))\n",
    "    print(sess.run(output_mask))\n",
    "    \n",
    "def masked_predict(model, data, targets):\n",
    "    pred = model.predict(data)\n",
    "    print(pred)\n",
    "    acc = np.argmax(pred,1)==np.argmax(targets,1)\n",
    "    return acc.mean()"
   ]
  },
  {
   "cell_type": "code",
   "execution_count": null,
   "metadata": {},
   "outputs": [],
   "source": [
    "from keras.models import Sequential\n",
    "from keras.layers import Dense\n",
    "model = Sequential()\n",
    "model.add(Dense(n_hidden_units, activation=activation_fn, input_shape=(input_dim,)))\n",
    "model.add(Dense(n_hidden_units, activation=activation_fn))\n",
    "model.add(Dense(output_dim, kernel_initializer='zero', activation=masked_softmax))"
   ]
  },
  {
   "cell_type": "code",
   "execution_count": null,
   "metadata": {},
   "outputs": [],
   "source": [
    "from sitools import protocols\n",
    "from sitools.optimizers import KOOptimizer\n",
    "from keras.optimizers import Adam, RMSprop,SGD\n",
    "from keras.callbacks import Callback\n",
    "from sitools.keras_utils import LossHistory\n",
    "\n",
    "#protocol_name, protocol = protocols.PATH_INT_PROTOCOL(omega_decay='sum',xi=1e-3)\n",
    "protocol_name, protocol = protocols.PATH_INT_PROTOCOL(omega_decay='sum',xi=1e-3)\n",
    "# protocol_name, protocol = protocols.SUM_FISHER_PROTOCOL('sum')\n",
    "opt = Adam(lr=1e-3, beta_1=0.9, beta_2=0.999)\n",
    "# opt = SGD(1e-3)\n",
    "# opt = RMSprop(lr=1e-3)\n",
    "oopt = KOOptimizer(opt, model=model, **protocol)\n",
    "model.compile(loss='categorical_crossentropy', optimizer=oopt, metrics=['accuracy'])\n",
    "model._make_train_function()\n",
    "saved_weights = model.get_weights()\n",
    "\n",
    "history = LossHistory()\n",
    "callbacks = [history]\n",
    "datafile_name = \"split_mnist_data_%s.pkl.gz\"%protocol_name"
   ]
  },
  {
   "cell_type": "markdown",
   "metadata": {},
   "source": [
    "## Train!"
   ]
  },
  {
   "cell_type": "code",
   "execution_count": null,
   "metadata": {
    "scrolled": true
   },
   "outputs": [],
   "source": [
    "# diag_vals = dict()\n",
    "# all_evals = dict()\n",
    "# data = utils.load_zipped_pickle(\"comparison_data_%s.pkl.gz\"%protocol_name)\n",
    "# returns empty dict if file not found\n",
    "\n",
    "def run_fits(cvals, training_data, valid_data, eval_on_train_set=False, nstats=1):\n",
    "    acc_mean = dict()\n",
    "    acc_std = dict()\n",
    "    for cidx, cval_ in enumerate(tqdm(cvals)):\n",
    "        runs = []\n",
    "        for runid in range(nstats):\n",
    "            sess.run(tf.global_variables_initializer())\n",
    "            # model.set_weights(saved_weights)\n",
    "            cstuffs = []\n",
    "            evals = []\n",
    "            print(\"setting cval\")\n",
    "            cval = cval_\n",
    "            oopt.set_strength(cval)\n",
    "            oopt.init_task_vars()\n",
    "            print(\"cval is\", sess.run(oopt.lam))\n",
    "            for age, tidx in enumerate(range(n_tasks)):\n",
    "                print(\"Age %i, cval is=%f\"%(age,cval))\n",
    "                print(\"settint output mask\")\n",
    "                set_active_outputs(task_labels[age])\n",
    "                stuffs = model.fit(training_data[tidx][0], training_data[tidx][1], batch_size, epochs_per_task, callbacks=callbacks)\n",
    "                oopt.update_task_metrics(training_data[tidx][0], training_data[tidx][1], batch_size)\n",
    "                oopt.update_task_vars()\n",
    "                ftask = []\n",
    "                for j in range(n_tasks):\n",
    "                    set_active_outputs(task_labels[j])\n",
    "                    if eval_on_train_set:\n",
    "                        f_ = masked_predict(model, training_data[j][0], training_data[j][1])\n",
    "                    else:\n",
    "                        f_ = masked_predict(model, valid_data[j][0], valid_data[j][1])\n",
    "                    ftask.append(np.mean(f_))\n",
    "                evals.append(ftask)\n",
    "                cstuffs.append(stuffs)\n",
    "\n",
    "                # Re-initialize optimizater variables\n",
    "                if reset_optimizer:\n",
    "                    oopt.reset_optimizer()\n",
    "\n",
    "            evals = np.array(evals)\n",
    "            runs.append(evals)\n",
    "        \n",
    "        runs = np.array(runs)\n",
    "        acc_mean[cval_] = runs.mean(0)\n",
    "        acc_std[cval_] = runs.std(0)\n",
    "    return dict(mean=acc_mean, std=acc_std)\n"
   ]
  },
  {
   "cell_type": "code",
   "execution_count": null,
   "metadata": {},
   "outputs": [],
   "source": [
    "# cvals = np.concatenate(([0], np.logspace(-2, 2, 10)))\n",
    "# cvals = np.concatenate(([0], np.logspace(-1, 2, 2)))\n",
    "# cvals = np.concatenate(([0], np.logspace(-2, 0, 3)))\n",
    "cvals = np.logspace(-3, 3, 7)#[0, 1.0, 2, 5, 10]\n",
    "cvals = [0, 1.0]\n",
    "print(cvals)\n"
   ]
  },
  {
   "cell_type": "code",
   "execution_count": null,
   "metadata": {},
   "outputs": [],
   "source": [
    "%%capture\n",
    "\n",
    "recompute_data = True\n",
    "\n",
    "if recompute_data:\n",
    "    data = run_fits(cvals, training_datasets, validation_datasets, eval_on_train_set=True, nstats=n_stats)\n",
    "    utils.save_zipped_pickle(data, datafile_name)"
   ]
  },
  {
   "cell_type": "code",
   "execution_count": null,
   "metadata": {},
   "outputs": [],
   "source": [
    "data = utils.load_zipped_pickle(datafile_name)\n",
    "print(cvals)"
   ]
  },
  {
   "cell_type": "code",
   "execution_count": null,
   "metadata": {},
   "outputs": [],
   "source": [
    "cmap = plt.get_cmap('cool') \n",
    "cNorm  = colors.Normalize(vmin=-5, vmax=np.log(np.max(list(data['mean'].keys()))))\n",
    "scalarMap = cmx.ScalarMappable(norm=cNorm, cmap=cmap)\n",
    "print(scalarMap.get_clim())"
   ]
  },
  {
   "cell_type": "code",
   "execution_count": null,
   "metadata": {},
   "outputs": [],
   "source": [
    "figure(figsize=(14, 2.5))\n",
    "axs = [subplot(1,n_tasks+1,1)]#, None, None]\n",
    "for i in range(1, n_tasks + 1):\n",
    "    axs.append(subplot(1, n_tasks+1, i+1, sharex=axs[0], sharey=axs[0]))\n",
    "    \n",
    "keys = list(data['mean'].keys())\n",
    "sorted_keys = np.sort(keys)\n",
    "\n",
    "for cval in sorted_keys:\n",
    "    mean_vals = data['mean'][cval]\n",
    "    std_vals = data['std'][cval]\n",
    "    for j in range(n_tasks):\n",
    "        colorVal = scalarMap.to_rgba(np.log(cval))\n",
    "        # axs[j].plot(evals[:, j], c=colorVal)\n",
    "        axs[j].errorbar(range(n_tasks), mean_vals[:, j], yerr=std_vals[:, j]/np.sqrt(n_stats), c=colorVal)\n",
    "    label = \"c=%g\"%cval\n",
    "    average = mean_vals.mean(1)\n",
    "    axs[-1].plot(average, c=colorVal, label=label)\n",
    "    \n",
    "for i, ax in enumerate(axs):\n",
    "    ax.legend(loc='best')\n",
    "    ax.set_title((['task %d'%j for j in range(n_tasks)] + ['average'])[i])\n",
    "gcf().tight_layout()\n",
    "sns.despine()"
   ]
  },
  {
   "cell_type": "code",
   "execution_count": null,
   "metadata": {},
   "outputs": [],
   "source": [
    "plt.rc('text', usetex=False)\n",
    "plt.rc('xtick', labelsize=8)\n",
    "plt.rc('ytick', labelsize=8)\n",
    "plt.rc('axes', labelsize=8)\n",
    "\n",
    "def simple_axis(ax):\n",
    "    ax.spines['top'].set_visible(False)\n",
    "    ax.spines['right'].set_visible(False)\n",
    "    ax.get_xaxis().tick_bottom()\n",
    "    ax.get_yaxis().tick_left()"
   ]
  },
  {
   "cell_type": "code",
   "execution_count": null,
   "metadata": {},
   "outputs": [],
   "source": [
    "fig = plt.figure(figsize=(3.3,2.5))\n",
    "ax = plt.subplot(111)\n",
    "\n",
    "for cval in sorted_keys:\n",
    "    mean_stuff = []\n",
    "    std_stuff = []\n",
    "    for i in range(len(data['mean'][cval])):\n",
    "        mean_stuff.append(data['mean'][cval][i][:i+1].mean())\n",
    "        std_stuff.append(np.sqrt((data['std'][cval][i][:i+1]**2).sum())/(n_stats*np.sqrt(n_stats)))\n",
    "    # plot(range(1,n_tasks+1), mean_stuff, 'o-', label=\"c=%g\"%cval)\n",
    "    errorbar(range(1,n_tasks+1), mean_stuff, yerr=std_stuff, fmt='o-', label=\"c=%g\"%cval)\n",
    "        \n",
    "axhline(data['mean'][cval][0][0], linestyle='--', color='k')\n",
    "xlabel('Number of tasks')\n",
    "ylabel('Fraction correct')\n",
    "legend(loc='best')\n",
    "xlim(0.5, 5.5)\n",
    "ylim(0.7, 1.02)\n",
    "# grid('on')\n",
    "# sns.despine()\n",
    "simple_axis(ax)"
   ]
  },
  {
   "cell_type": "code",
   "execution_count": null,
   "metadata": {},
   "outputs": [],
   "source": [
    "fig = plt.figure(figsize=(3.3,2.0))\n",
    "ax = plt.subplot(111)\n",
    "\n",
    "plot_keys =sorted(data['mean'].keys())# [0,1]\n",
    "\n",
    "for cval in plot_keys:\n",
    "    mean_stuff = []\n",
    "    std_stuff = []\n",
    "    for i in range(len(data['mean'][cval])):\n",
    "        mean_stuff.append(data['mean'][cval][i][:i+1].mean())\n",
    "        std_stuff.append(np.sqrt((data['std'][cval][i][:i+1]**2).sum())/(n_stats*np.sqrt(n_stats)))\n",
    "    # plot(range(1,n_tasks+1), mean_stuff, 'o-', label=\"c=%g\"%cval)\n",
    "    errorbar(range(1,n_tasks+1), mean_stuff, yerr=std_stuff, fmt='o-', label=\"c=%g\"%cval)\n",
    "        \n",
    "axhline(data['mean'][cval][0][0], linestyle=':', color='k')\n",
    "xlabel('Number of tasks')\n",
    "ylabel('Fraction correct')\n",
    "legend(loc='best', fontsize=8)\n",
    "xlim(0.5, 5.5)\n",
    "plt.yticks([0.6,0.8,1.0])\n",
    "ylim(0.6, 1.02)\n",
    "# grid('on')\n",
    "# sns.despine()\n",
    "simple_axis(ax)\n",
    "plt.subplots_adjust(left=.15, bottom=.18, right=.99, top=.97)\n",
    "plt.savefig(\"split_mnist_accuracy.pdf\")"
   ]
  },
  {
   "cell_type": "code",
   "execution_count": null,
   "metadata": {
    "scrolled": true
   },
   "outputs": [],
   "source": [
    "figure(figsize=(7, 1.8))\n",
    "axs = [subplot(1,n_tasks+1,1)]\n",
    "for i in range(1,n_tasks+1):\n",
    "    axs.append(subplot(1, n_tasks+1, i+1, sharex=axs[0], sharey=axs[0]))\n",
    "fmts = ['o', 's']\n",
    "\n",
    "plot_keys =sorted(data['mean'].keys())\n",
    "# plot_keys = [0]\n",
    "print(plot_keys)\n",
    "\n",
    "for i, cval in enumerate(plot_keys):\n",
    "    label = \"c=%g\"%cval\n",
    "    mean_vals = data['mean'][cval]\n",
    "    std_vals = data['std'][cval]\n",
    "    for j in range(n_tasks+1):\n",
    "        sca(axs[j])\n",
    "        errorbar_kwargs = dict(fmt=\"%s-\"%fmts[i], markersize=5)\n",
    "        if j < n_tasks:\n",
    "            # print(j,mean_vals[:, j])\n",
    "            norm= np.sqrt(n_stats) # np.sqrt(n_stats) for SEM or 1 for STDEV\n",
    "            axs[j].errorbar(np.arange(n_tasks)+1, mean_vals[:, j], yerr=std_vals[:, j]/norm, label=label, **errorbar_kwargs)\n",
    "        else:\n",
    "            mean_stuff = []\n",
    "            std_stuff = []\n",
    "            for i in range(len(data['mean'][cval])):\n",
    "                mean_stuff.append(data['mean'][cval][i][:i+1].mean())\n",
    "                #std_stuff.append(data['mean'][cval][i][:i+1].std()/np.sqrt(n_stats))\n",
    "                std_stuff.append(np.sqrt((data['std'][cval][i][:i+1]**2).sum())/(n_stats*np.sqrt(n_stats)))\n",
    "            # plot(range(1,n_tasks+1), mean_stuff, 'o-', label=\"c=%g\"%cval)\n",
    "            errorbar(range(1,n_tasks+1), mean_stuff, yerr=std_stuff, label=\"c=%g\"%cval, **errorbar_kwargs)\n",
    "        plt.xticks(np.arange(5)+1)\n",
    "        plt.xlim((1.0,5.5))\n",
    "        if j == 0:\n",
    "            axs[j].set_yticks([0.5,1])\n",
    "        else:\n",
    "            setp(axs[j].get_yticklabels(), visible=False)\n",
    "        plt.ylim((0.45,1.1))\n",
    "\n",
    "for i, ax in enumerate(axs):\n",
    "    if i < n_tasks:\n",
    "        ax.set_title((['Task %d (%d or %d)'%(j+1,task_labels[j][0], task_labels[j][1]) for j in range(n_tasks)] + ['average'])[i], fontsize=8)\n",
    "    else:\n",
    "        ax.set_title(\"Average\", fontsize=8)\n",
    "    #ax.set_title((['Task %d'%(j+1) for j in xrange(n_tasks)] + ['average'])[i], fontsize=8)\n",
    "    # ax.axhline(0.5, linestyle=':', color='k')\n",
    "    ax.axhline(0.5, color='k', linestyle=':', label=\"chance\", zorder=0)\n",
    "handles, labels = axs[-1].get_legend_handles_labels()\n",
    "# Reorder legend so chance is last\n",
    "axs[-1].legend([handles[j] for j in [1,2,0]], [labels[j] for j in [1,2,0]], loc='lower right', fontsize=8, bbox_to_anchor=(-1.3, -.7), ncol=3, frameon=True)\n",
    "# axs[-1].legend(loc='lower right', fontsize=8, bbox_to_anchor=(-1.3, -.7), ncol=3, frameon=True)\n",
    "    \n",
    "axs[0].set_xlabel(\"Tasks\")\n",
    "axs[0].set_ylabel(\"Accuracy\")\n",
    "gcf().tight_layout()\n",
    "sns.despine()\n",
    "plt.savefig(\"split_mnist_tasks.pdf\")"
   ]
  },
  {
   "cell_type": "code",
   "execution_count": null,
   "metadata": {},
   "outputs": [],
   "source": []
  },
  {
   "cell_type": "code",
   "execution_count": null,
   "metadata": {},
   "outputs": [],
   "source": []
  }
 ],
 "metadata": {
  "kernelspec": {
   "display_name": "Python 3",
   "language": "python",
   "name": "python3"
  },
  "language_info": {
   "codemirror_mode": {
    "name": "ipython",
    "version": 3
   },
   "file_extension": ".py",
   "mimetype": "text/x-python",
   "name": "python",
   "nbconvert_exporter": "python",
   "pygments_lexer": "ipython3",
   "version": "3.7.3"
  }
 },
 "nbformat": 4,
 "nbformat_minor": 2
}
